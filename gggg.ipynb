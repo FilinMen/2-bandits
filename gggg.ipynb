{
 "cells": [
  {
   "cell_type": "code",
   "execution_count": null,
   "metadata": {},
   "outputs": [],
   "source": [
    "input_data = open(\"input.txt\",\"r\")\n",
    "data = input_data.read()\n",
    "data = data.split()\n",
    "\n",
    "a = int(data[0])\n",
    "b = int(data[1])\n",
    "output_data = open(\"output.txt\",\"w\")\n",
    "output_data.write(str(10 - a),\" \",str(10 - b))\n",
    "output_data.close()\n",
    "input_data.close()"
   ]
  }
 ],
 "metadata": {
  "language_info": {
   "name": "python"
  }
 },
 "nbformat": 4,
 "nbformat_minor": 2
}
